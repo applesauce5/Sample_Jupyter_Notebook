{
 "cells": [
  {
   "cell_type": "markdown",
   "id": "2a2da989-c63b-4908-957a-3280bcf6f89a",
   "metadata": {
    "tags": []
   },
   "source": [
    "# Data Science Tools and Ecosystems"
   ]
  },
  {
   "cell_type": "markdown",
   "id": "bf5127ae-2f4f-4c0f-940e-4e221d6ba189",
   "metadata": {},
   "source": [
    "In this notebook, Data Science Tools and Ecosystem are summarized."
   ]
  },
  {
   "cell_type": "markdown",
   "id": "9348b622-2a3f-4809-a937-5d3c9a239681",
   "metadata": {},
   "source": [
    "Some of the popular languages that Data Scientists use are:\n",
    "\n",
    "    1. R\n",
    "    2. Python\n",
    "    3. Julia"
   ]
  },
  {
   "cell_type": "markdown",
   "id": "d2e8dc79-95e1-4ff7-8c1b-de43fb147f1a",
   "metadata": {},
   "source": [
    "Some of the commonly used libraries used by Data Scientists include:\n",
    "    \n",
    "    1. ggplot\n",
    "    2. pytorch\n",
    "    3. caret"
   ]
  },
  {
   "cell_type": "markdown",
   "id": "d374544b-a88a-43cd-85d8-e49dea0036da",
   "metadata": {},
   "source": [
    "| Data Science Tools |\n",
    "| --- |\n",
    "| Visual Studio |\n",
    "| Github |\n",
    "| R Studio |\n",
    "\n"
   ]
  },
  {
   "cell_type": "markdown",
   "id": "48b01fef-7dc1-4e1d-9d8e-8e836a2ca391",
   "metadata": {},
   "source": [
    "### Below are a few examples of evaluating arithmetic expressions in Python\n",
    "\n"
   ]
  },
  {
   "cell_type": "code",
   "execution_count": 4,
   "id": "80a2aaea-275f-4f2f-91da-bfd173262c60",
   "metadata": {
    "tags": []
   },
   "outputs": [
    {
     "data": {
      "text/plain": [
       "17"
      ]
     },
     "execution_count": 4,
     "metadata": {},
     "output_type": "execute_result"
    }
   ],
   "source": [
    "# This a simple arithmetic expression to mutiply then add integers\n",
    "\n",
    "(3*4)+5"
   ]
  },
  {
   "cell_type": "code",
   "execution_count": 5,
   "id": "6a081547-62de-49be-a988-663c32a0a530",
   "metadata": {
    "tags": []
   },
   "outputs": [
    {
     "data": {
      "text/plain": [
       "3.3333333333333335"
      ]
     },
     "execution_count": 5,
     "metadata": {},
     "output_type": "execute_result"
    }
   ],
   "source": [
    "# This will convert 200 minutes to hours by diving by 60\n",
    "200 / 60"
   ]
  },
  {
   "cell_type": "markdown",
   "id": "9c2d6ea5-9123-4b27-b781-546131c452ba",
   "metadata": {},
   "source": [
    "__Objectives__\n",
    "\n",
    "List popular languages for Data Science\n",
    "\n",
    "- Python\n",
    "- R\n",
    "- Julia"
   ]
  },
  {
   "cell_type": "markdown",
   "id": "ca6dc6e5-1885-4ee7-98cf-0ea45212cb4f",
   "metadata": {},
   "source": [
    "## Author\n",
    "\n",
    "Matthew Cho"
   ]
  },
  {
   "cell_type": "code",
   "execution_count": null,
   "id": "9b004fee-e0b6-4bbf-8464-c021cd7df187",
   "metadata": {},
   "outputs": [],
   "source": []
  }
 ],
 "metadata": {
  "kernelspec": {
   "display_name": "Python 3 (ipykernel)",
   "language": "python",
   "name": "python3"
  },
  "language_info": {
   "codemirror_mode": {
    "name": "ipython",
    "version": 3
   },
   "file_extension": ".py",
   "mimetype": "text/x-python",
   "name": "python",
   "nbconvert_exporter": "python",
   "pygments_lexer": "ipython3",
   "version": "3.11.5"
  }
 },
 "nbformat": 4,
 "nbformat_minor": 5
}
